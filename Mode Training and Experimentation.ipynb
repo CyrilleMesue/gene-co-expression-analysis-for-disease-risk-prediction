{
 "cells": [
  {
   "cell_type": "code",
   "execution_count": 18,
   "id": "77b52427-190b-439d-acb0-445f9061e593",
   "metadata": {},
   "outputs": [],
   "source": [
    "# Import Libraries\n",
    "import os\n",
    "import sys\n",
    "import pandas as pd\n",
    "from tqdm.notebook import tqdm"
   ]
  },
  {
   "cell_type": "code",
   "execution_count": 20,
   "id": "3bf7c3ef-e454-489a-9542-5c644e028e23",
   "metadata": {},
   "outputs": [
    {
     "name": "stdout",
     "output_type": "stream",
     "text": [
      "Requirement already satisfied: automated-ml-pack in /home/cnjume/anaconda3/envs/asthma/lib/python3.11/site-packages (1.0.4)\n",
      "Requirement already satisfied: auto-mix-prep==0.2.0 in /home/cnjume/anaconda3/envs/asthma/lib/python3.11/site-packages (from automated-ml-pack) (0.2.0)\n",
      "Requirement already satisfied: catboost==1.2.3 in /home/cnjume/anaconda3/envs/asthma/lib/python3.11/site-packages (from automated-ml-pack) (1.2.3)\n",
      "Requirement already satisfied: dill==0.3.8 in /home/cnjume/anaconda3/envs/asthma/lib/python3.11/site-packages (from automated-ml-pack) (0.3.8)\n",
      "Requirement already satisfied: feature-engine==1.6.2 in /home/cnjume/anaconda3/envs/asthma/lib/python3.11/site-packages (from automated-ml-pack) (1.6.2)\n",
      "Requirement already satisfied: matplotlib==3.8.3 in /home/cnjume/anaconda3/envs/asthma/lib/python3.11/site-packages (from automated-ml-pack) (3.8.3)\n",
      "Requirement already satisfied: numpy==1.26.4 in /home/cnjume/anaconda3/envs/asthma/lib/python3.11/site-packages (from automated-ml-pack) (1.26.4)\n",
      "Requirement already satisfied: pandas==2.2.1 in /home/cnjume/anaconda3/envs/asthma/lib/python3.11/site-packages (from automated-ml-pack) (2.2.1)\n",
      "Requirement already satisfied: scikit-learn==1.4.1.post1 in /home/cnjume/anaconda3/envs/asthma/lib/python3.11/site-packages (from automated-ml-pack) (1.4.1.post1)\n",
      "Requirement already satisfied: seaborn==0.13.2 in /home/cnjume/anaconda3/envs/asthma/lib/python3.11/site-packages (from automated-ml-pack) (0.13.2)\n",
      "Requirement already satisfied: tqdm==4.66.2 in /home/cnjume/anaconda3/envs/asthma/lib/python3.11/site-packages (from automated-ml-pack) (4.66.2)\n",
      "Requirement already satisfied: xgboost==2.0.3 in /home/cnjume/anaconda3/envs/asthma/lib/python3.11/site-packages (from automated-ml-pack) (2.0.3)\n",
      "Requirement already satisfied: pydub in /home/cnjume/anaconda3/envs/asthma/lib/python3.11/site-packages (from auto-mix-prep==0.2.0->automated-ml-pack) (0.25.1)\n",
      "Requirement already satisfied: graphviz in /home/cnjume/anaconda3/envs/asthma/lib/python3.11/site-packages (from catboost==1.2.3->automated-ml-pack) (0.20.2)\n",
      "Requirement already satisfied: scipy in /home/cnjume/anaconda3/envs/asthma/lib/python3.11/site-packages (from catboost==1.2.3->automated-ml-pack) (1.12.0)\n",
      "Requirement already satisfied: plotly in /home/cnjume/anaconda3/envs/asthma/lib/python3.11/site-packages (from catboost==1.2.3->automated-ml-pack) (5.20.0)\n",
      "Requirement already satisfied: six in /home/cnjume/anaconda3/envs/asthma/lib/python3.11/site-packages (from catboost==1.2.3->automated-ml-pack) (1.16.0)\n",
      "Requirement already satisfied: statsmodels>=0.11.1 in /home/cnjume/anaconda3/envs/asthma/lib/python3.11/site-packages (from feature-engine==1.6.2->automated-ml-pack) (0.14.1)\n",
      "Requirement already satisfied: contourpy>=1.0.1 in /home/cnjume/anaconda3/envs/asthma/lib/python3.11/site-packages (from matplotlib==3.8.3->automated-ml-pack) (1.2.0)\n",
      "Requirement already satisfied: cycler>=0.10 in /home/cnjume/anaconda3/envs/asthma/lib/python3.11/site-packages (from matplotlib==3.8.3->automated-ml-pack) (0.12.1)\n",
      "Requirement already satisfied: fonttools>=4.22.0 in /home/cnjume/anaconda3/envs/asthma/lib/python3.11/site-packages (from matplotlib==3.8.3->automated-ml-pack) (4.50.0)\n",
      "Requirement already satisfied: kiwisolver>=1.3.1 in /home/cnjume/anaconda3/envs/asthma/lib/python3.11/site-packages (from matplotlib==3.8.3->automated-ml-pack) (1.4.5)\n",
      "Requirement already satisfied: packaging>=20.0 in /home/cnjume/anaconda3/envs/asthma/lib/python3.11/site-packages (from matplotlib==3.8.3->automated-ml-pack) (24.0)\n",
      "Requirement already satisfied: pillow>=8 in /home/cnjume/anaconda3/envs/asthma/lib/python3.11/site-packages (from matplotlib==3.8.3->automated-ml-pack) (10.2.0)\n",
      "Requirement already satisfied: pyparsing>=2.3.1 in /home/cnjume/anaconda3/envs/asthma/lib/python3.11/site-packages (from matplotlib==3.8.3->automated-ml-pack) (3.1.2)\n",
      "Requirement already satisfied: python-dateutil>=2.7 in /home/cnjume/anaconda3/envs/asthma/lib/python3.11/site-packages (from matplotlib==3.8.3->automated-ml-pack) (2.9.0.post0)\n",
      "Requirement already satisfied: pytz>=2020.1 in /home/cnjume/anaconda3/envs/asthma/lib/python3.11/site-packages (from pandas==2.2.1->automated-ml-pack) (2024.1)\n",
      "Requirement already satisfied: tzdata>=2022.7 in /home/cnjume/anaconda3/envs/asthma/lib/python3.11/site-packages (from pandas==2.2.1->automated-ml-pack) (2024.1)\n",
      "Requirement already satisfied: joblib>=1.2.0 in /home/cnjume/anaconda3/envs/asthma/lib/python3.11/site-packages (from scikit-learn==1.4.1.post1->automated-ml-pack) (1.3.2)\n",
      "Requirement already satisfied: threadpoolctl>=2.0.0 in /home/cnjume/anaconda3/envs/asthma/lib/python3.11/site-packages (from scikit-learn==1.4.1.post1->automated-ml-pack) (3.3.0)\n",
      "Requirement already satisfied: patsy>=0.5.4 in /home/cnjume/anaconda3/envs/asthma/lib/python3.11/site-packages (from statsmodels>=0.11.1->feature-engine==1.6.2->automated-ml-pack) (0.5.6)\n",
      "Requirement already satisfied: tenacity>=6.2.0 in /home/cnjume/anaconda3/envs/asthma/lib/python3.11/site-packages (from plotly->catboost==1.2.3->automated-ml-pack) (8.2.3)\n"
     ]
    }
   ],
   "source": [
    "# install custom machine learning package\n",
    "!pip install automated-ml-pack"
   ]
  },
  {
   "cell_type": "code",
   "execution_count": 21,
   "id": "7432390c-946d-4c92-baf2-1871dbf5eec3",
   "metadata": {},
   "outputs": [],
   "source": [
    "def run_train_pipeline(input_file:str = None,  \n",
    "                       target_column:str = None,\n",
    "                       input_type:str = \"csv\",\n",
    "                       training_type:str = \"clf\",\n",
    "                       engineer_new_features:bool = False, \n",
    "                       output_base:str = \"\", \n",
    "                       test_size:float = 0.2, \n",
    "                       no_standard_scaling:bool = False,\n",
    "                       feature_selection:bool = False, \n",
    "                       feature_selection_method:str = \"addition\",\n",
    "                       selectkbest_num_features: int = 32, \n",
    "                       output_dir:str = None,\n",
    "                       return_data:bool = False,\n",
    "                       no_param_finetune:bool = False\n",
    "                      ):\n",
    "    \"\"\"\n",
    "    Function to facilitate the training of multiple machine learning models,\n",
    "    optimize the models, and save the trained models. It also conducts model\n",
    "    evaluation using diverse methods. Additionally, the function is capable\n",
    "    of handling both regression and classification tasks.\n",
    "\n",
    "    Args:\n",
    "        input_file (str): Path to the input data in CSV/TSV format.\n",
    "        input_type (str): Type of input file format (csv or tsv).\n",
    "        training_type (str): Type of training (\"classification\" or \"regression\").\n",
    "        target_column (str): Name of the target column in the input dataframe.\n",
    "        engineer_new_features (bool, optional): Flag to perform engineering of\n",
    "            new features or not. Defaults to False.\n",
    "        output_base (str, optional): Base Name for most output files. Defaults to None.\n",
    "        test_size (float, optional): Fraction of the dataset to be used for testing.\n",
    "            Defaults to 0.2.\n",
    "        no_standard_scaling (bool, optional): Whether or not to apply scikit-learn\n",
    "            standard scaler on the data. Defaults to False.\n",
    "        feature_selection (bool, optional): Whether or not to perform feature\n",
    "            selection on the dataset. Defaults to False.\n",
    "        feature_selection_method (str, optional): Specify between recursive\n",
    "            feature addition and recursive feature elimination algorithms for\n",
    "            classification. Defaults to None.\n",
    "        selectkbest_num_features (int, optional): Number of top features to select.\n",
    "            For regression only. Defaults to None.\n",
    "        output_dir (str, optional): Custom Name of Output Folder. Defaults to None.\n",
    "        return_data (bool, optional): Select to include raw data, training data\n",
    "            and test data in the output folders. Defaults to False.\n",
    "    \"\"\"\n",
    "    if  feature_selection:\n",
    "        feature_selection = \" --feature_selection\"\n",
    "    else:\n",
    "        feature_selection = \"\"\n",
    "\n",
    "    if engineer_new_features:\n",
    "        engineer_new_features = \" --engineer_new_features\"\n",
    "    else:\n",
    "        engineer_new_features = \"\"\n",
    "\n",
    "    if no_standard_scaling:\n",
    "        no_standard_scaling = \" --no_standard_scaling\"\n",
    "    else:\n",
    "        no_standard_scaling = \"\"\n",
    "\n",
    "    if output_base == \"\":\n",
    "        output_base = f\" --output_base {training_type}\"\n",
    "    else:\n",
    "        output_base = f\" --output_base {output_base}\"\n",
    "    if no_param_finetune:\n",
    "        no_param_finetune = \" --no_param_finetune\"\n",
    "    else:\n",
    "        no_param_finetune = \"\"\n",
    "        \n",
    "    # handle options\n",
    "    script = f\"run_train_pipeline --input_file {input_file} --target_column {target_column} --selectkbest_num_features {selectkbest_num_features} --training_type {training_type} --test_size {test_size} --feature_selection_method {feature_selection_method} --output_dir {output_dir}\" + feature_selection + engineer_new_features + no_standard_scaling + output_base + no_param_finetune\n",
    "\n",
    "    print(script)\n",
    "    # Your code to execute the training pipeline goes here\n",
    "    os.system(script)"
   ]
  },
  {
   "cell_type": "code",
   "execution_count": 22,
   "id": "c562f145-2517-47eb-b4ac-43a10a37f0b7",
   "metadata": {},
   "outputs": [],
   "source": [
    "# Configure Experiments\n",
    "experiment_config = {\n",
    "    \"all_common_genes_data\" : \"data2/all_common_genes_data.csv\",\n",
    "    \"all_DEGs_data\" : \"data2/all_DEGs_data.csv\",\n",
    "    \"all_DCEGs_data\" : \"data2/all_DCEGs_data.csv\",\n",
    "    \"all_common_genes_data_without_batch\" : \"data2/all_common_genes_data_without_batch.csv\",\n",
    "    \"all_DEGs_data_without_batch\" : \"data2/all_DEGs_data_without_batch.csv\",\n",
    "    \"all_DCEGs_data_without_batch\" : \"data2/all_DCEGs_data_without_batch.csv\"\n",
    "    }"
   ]
  },
  {
   "cell_type": "code",
   "execution_count": null,
   "id": "8dc175ed-3518-4fea-93a1-a79f16ffc44a",
   "metadata": {},
   "outputs": [
    {
     "data": {
      "application/vnd.jupyter.widget-view+json": {
       "model_id": "4de178b60d194d7db31a1bb2ceba372b",
       "version_major": 2,
       "version_minor": 0
      },
      "text/plain": [
       "  0%|          | 0/6 [00:00<?, ?it/s]"
      ]
     },
     "metadata": {},
     "output_type": "display_data"
    },
    {
     "name": "stdout",
     "output_type": "stream",
     "text": [
      "\n",
      "Training Models on all_common_genes_data\n",
      "run_train_pipeline --input_file data2/all_common_genes_data.csv --target_column Type --selectkbest_num_features 32 --training_type clf --test_size 0.2 --feature_selection_method addition --output_dir data2/all_common_genes_data --output_base clf --no_param_finetune\n"
     ]
    },
    {
     "name": "stderr",
     "output_type": "stream",
     "text": [
      " 56%|█████▌    | 5/9 [44:34<35:44, 536.06s/it]   "
     ]
    }
   ],
   "source": [
    "# Run Experiments\n",
    "for experiment_name, data_path in tqdm(experiment_config.items()):\n",
    "    print(f\"\\nTraining Models on {experiment_name}\")\n",
    "    outdir = data_path.split(\".\")[0]\n",
    "    # run experiment\n",
    "    run_train_pipeline(input_file = data_path,  \n",
    "                       target_column = \"Type\",\n",
    "                       input_type = \"csv\",\n",
    "                       training_type = \"clf\",\n",
    "                       engineer_new_features=False,\n",
    "                       output_base=\"\",\n",
    "                       test_size=0.2, \n",
    "                       no_standard_scaling=False,\n",
    "                       feature_selection=False, \n",
    "                       feature_selection_method=\"addition\",\n",
    "                       selectkbest_num_features=32, \n",
    "                       output_dir=outdir,\n",
    "                       no_param_finetune = True\n",
    "                      )"
   ]
  },
  {
   "cell_type": "code",
   "execution_count": null,
   "id": "f42163e4-fbf5-430e-a1e1-2700f11aa371",
   "metadata": {},
   "outputs": [],
   "source": [
    " "
   ]
  }
 ],
 "metadata": {
  "kernelspec": {
   "display_name": "Python 3 (ipykernel)",
   "language": "python",
   "name": "python3"
  },
  "language_info": {
   "codemirror_mode": {
    "name": "ipython",
    "version": 3
   },
   "file_extension": ".py",
   "mimetype": "text/x-python",
   "name": "python",
   "nbconvert_exporter": "python",
   "pygments_lexer": "ipython3",
   "version": "3.11.0"
  }
 },
 "nbformat": 4,
 "nbformat_minor": 5
}
